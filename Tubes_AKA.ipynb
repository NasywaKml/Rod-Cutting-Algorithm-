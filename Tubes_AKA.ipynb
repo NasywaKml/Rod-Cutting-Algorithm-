{
  "nbformat": 4,
  "nbformat_minor": 0,
  "metadata": {
    "colab": {
      "provenance": []
    },
    "kernelspec": {
      "name": "python3",
      "display_name": "Python 3"
    },
    "language_info": {
      "name": "python"
    }
  },
  "cells": [
    {
      "cell_type": "markdown",
      "source": [
        "##Recursive algorithm"
      ],
      "metadata": {
        "id": "2zVlLofua3lL"
      }
    },
    {
      "cell_type": "code",
      "execution_count": null,
      "metadata": {
        "id": "dRqahGyeas0_"
      },
      "outputs": [],
      "source": [
        "def rod_cutting_recursive(price, n):\n",
        "    if n <= 0:\n",
        "        return 0\n",
        "    max_val = -1\n",
        "    for i in range(1, n + 1):\n",
        "        max_val = max(max_val, price[i - 1] + rod_cutting_recursive(price, n - i))\n",
        "    return max_val\n"
      ]
    },
    {
      "cell_type": "markdown",
      "source": [
        "##Iterative algorithm"
      ],
      "metadata": {
        "id": "Q4ajFXn4bDQn"
      }
    },
    {
      "cell_type": "code",
      "source": [
        "def rod_cutting_iterative(price, n):\n",
        "    dp = [0] * (n + 1)\n",
        "    for i in range(1, n + 1):\n",
        "        for j in range(1, i + 1):\n",
        "            if dp[i] > price[j - 1] + dp[i - j]:\n",
        "                dp[i] = dp[i]\n",
        "            else:\n",
        "                dp[i] = price[j - 1] + dp[i - j]\n",
        "    return dp[n]"
      ],
      "metadata": {
        "id": "WScx3RKca-yF"
      },
      "execution_count": null,
      "outputs": []
    },
    {
      "cell_type": "markdown",
      "source": [
        "##Check the comparison running time"
      ],
      "metadata": {
        "id": "usbD75Ghbf3B"
      }
    },
    {
      "cell_type": "code",
      "source": [
        "# Test cases\n",
        "price1 = [1,2,3,4,4]\n",
        "n1 = 5\n",
        "\n",
        "# Measure recursive time\n",
        "start_time = time.time()\n",
        "print(f\"Recursive result: {rod_cutting_recursive(price1, n1)}\")\n",
        "end_time = time.time()\n",
        "print(f\"Recursive time: {end_time - start_time:.5f} detik\")\n",
        "\n",
        "# Measure iterative time\n",
        "start_time = time.time()\n",
        "print(f\"Iterative result: {rod_cutting_iterative(price1, n1)}\")\n",
        "end_time = time.time()\n",
        "print(f\"Iterative time: {end_time - start_time:.5f} detik\")\n"
      ],
      "metadata": {
        "id": "V_y0y8NJbmif"
      },
      "execution_count": null,
      "outputs": []
    }
  ]
}